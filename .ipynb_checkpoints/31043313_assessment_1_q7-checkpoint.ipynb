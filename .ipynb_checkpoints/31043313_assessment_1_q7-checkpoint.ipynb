{
 "cells": [
  {
   "cell_type": "markdown",
   "metadata": {},
   "source": [
    "# Question 7 [Discriminative vs Generative Models, 25 Marks]"
   ]
  },
  {
   "cell_type": "code",
   "execution_count": 1,
   "metadata": {},
   "outputs": [
    {
     "name": "stderr",
     "output_type": "stream",
     "text": [
      "Warning message:\n",
      "\"package 'ggplot2' was built under R version 4.0.2\"\n"
     ]
    }
   ],
   "source": [
    "library(ggplot2)\n",
    "library(reshape2)\n",
    "library(mvtnorm)\n"
   ]
  },
  {
   "cell_type": "markdown",
   "metadata": {},
   "source": [
    "### 7.1 \n",
    "##### Load Task1E_train.csv and Task1E_test.csv as well as the Bayesianclassifier (BC) and logistic regression (LR) codes from Activities 3.2 and 3.3in Module 3."
   ]
  },
  {
   "cell_type": "code",
   "execution_count": 2,
   "metadata": {},
   "outputs": [],
   "source": [
    "train = read.csv('Data_set/Task1E_train.csv')\n",
    "train_data = train[1:2]\n",
    "train_label = train[3]\n",
    "\n",
    "test = read.csv('Data_set/Task1E_test.csv')\n",
    "test_data = test[1:2]\n",
    "test_label = test[3]"
   ]
  },
  {
   "cell_type": "markdown",
   "metadata": {},
   "source": [
    "##### Bayesian classifier"
   ]
  },
  {
   "cell_type": "code",
   "execution_count": 3,
   "metadata": {},
   "outputs": [],
   "source": [
    "error = function(prediction, label){\n",
    "    sum(prediction != label) / length(label)\n",
    "}"
   ]
  },
  {
   "cell_type": "code",
   "execution_count": 4,
   "metadata": {},
   "outputs": [],
   "source": [
    "bayesian_classifier = function(train_data, train_label, test_data, test_label){\n",
    "    p0_hat = sum(train_label==1)/nrow(train_data)\n",
    "    p1_hat = sum(train_label==-1)/nrow(train_data)\n",
    "    \n",
    "    mu0_hat = colMeans(train_data[train_label==1,])\n",
    "    mu1_hat = colMeans(train_data[train_label==-1,])\n",
    "    \n",
    "    sigma0_hat = var(train_data[train_label==1,])\n",
    "    sigma1_hat = var(train_data[train_label==-1,])\n",
    "    \n",
    "    sigma_hat = p0_hat * sigma0_hat + p1_hat * sigma1_hat\n",
    "    \n",
    "    posterior0 = p0_hat*dmvnorm(x=train_data, mean=mu0_hat, sigma=sigma_hat)\n",
    "    posterior1 = p1_hat*dmvnorm(x=train_data, mean=mu1_hat, sigma=sigma_hat)\n",
    "    \n",
    "    train_predict = ifelse(posterior0 > posterior1, 1, -1)\n",
    "    test_predict = ifelse(p0_hat*dmvnorm(x=test_data, mean=mu0_hat, sigma=sigma_hat) > p1_hat*dmvnorm(x=test_data, mean=mu1_hat, sigma=sigma_hat), 1, -1)\n",
    "    #return (list(train.predict, test.predict))\n",
    "    return (list(\"train\"=error(train_predict, train_label), \"test\"=error(test_predict, test_label)))\n",
    "}"
   ]
  },
  {
   "cell_type": "markdown",
   "metadata": {},
   "source": [
    "##### Logistic regression (LR)"
   ]
  },
  {
   "cell_type": "code",
   "execution_count": 5,
   "metadata": {},
   "outputs": [],
   "source": [
    "predict = function(w, X, c0, c1){\n",
    "    sig = sigmoid(w, X)\n",
    "    return(ifelse(sig>0.5, c1,c0))\n",
    "}\n",
    "\n",
    "cost = function (w, X, T, c0){\n",
    "    sig = sigmoid(w, X)\n",
    "    return(sum(ifelse(T==c0, -log(1-sig), -log(sig)))/nrow(X))\n",
    "}\n",
    "\n",
    "sigmoid = function(w, x){\n",
    "    return(1.0/(1.0+exp(-w%*%t(cbind(1,x)))))    \n",
    "}"
   ]
  },
  {
   "cell_type": "code",
   "execution_count": 6,
   "metadata": {},
   "outputs": [],
   "source": [
    "logistic_regression =  function(train_data, train_label, test_data, test_label, eta=0.01, epsilon=0.01, tau_max=1000){\n",
    "    X = as.matrix(train_data) # rename just for conviniance\n",
    "    T = ifelse(train_label==1,0,1) # rename just for conviniance\n",
    "    \n",
    "    train_len = nrow(X)\n",
    "    test_data = as.matrix(test_data) # rename just for conviniance\n",
    "    test_label = ifelse(test_label==1,0,1) # rename just for conviniance\n",
    "\n",
    "    W = matrix(,nrow=tau_max, ncol=(ncol(X)+1)) # to be used to store the estimated coefficients\n",
    "    W[1,] = runif(ncol(W)) # initial weight (any better idea?)\n",
    "    Y = sigmoid(W[1,],X)\n",
    "    tau = 1\n",
    "    terminate = FALSE\n",
    "    while(!terminate){\n",
    "        terminate = tau >= tau_max  | cost(W[tau,],X,T, 0)<=epsilon\n",
    "        train_index = sample(1:train_len, train_len, replace = FALSE)\n",
    "        X = X[train_index,]\n",
    "        T = T[train_index]\n",
    "        \n",
    "        # for each datapoint:\n",
    "        for (i in 1:train_len){\n",
    "            # check termination criteria:\n",
    "            if (tau >= tau_max | cost(W[tau,],X,T, 0) <=epsilon) {terminate<-TRUE;break}\n",
    "\n",
    "            Y <- sigmoid(W[tau,],X)\n",
    "\n",
    "            # Update the weights\n",
    "            W[(tau+1),] <- W[tau,] - eta * (Y[i]-T[i]) * cbind(1, t(X[i,]))\n",
    "\n",
    "            # update the counter:\n",
    "            tau <- tau + 1\n",
    "\n",
    "            # decrease learning rate:\n",
    "            eta = eta * 0.999\n",
    "        }\n",
    "    }  \n",
    "    w = W[tau,]\n",
    "    train_cost = cost(w, X, T, 0)\n",
    "    test_cost = cost(w, test_data, test_label, 0)\n",
    "    return(list(\"W\"=w, \"train\"=train_cost, \"test\"=test_cost))\n",
    "}"
   ]
  },
  {
   "cell_type": "markdown",
   "metadata": {},
   "source": [
    "### 7.2\n",
    "##### Using the first 5 data points from the training set, train a BC anda LR model, and compute their training and testing errors. In a “for loop”,increase the size of training set (5 data points at a time), retrain the modelsand calculate their training and testing errors until all training data pointsare used. In one figure, plot the training errors of the BC and LR models(with different colors) versus the size of the training set and in the otherfigure, plot the testing errors of the BC and LR models(with different colors) versus the size of the training set; include two plots in your Jupyter Notebook file for Question 7."
   ]
  },
  {
   "cell_type": "code",
   "execution_count": 7,
   "metadata": {},
   "outputs": [],
   "source": [
    "train_errors = data.frame(\"batch\"=seq(5, nrow(train_data), by=5), \"lr\"=0, \"bc\"=0)\n",
    "test_errors = data.frame(\"batch\"=seq(5, nrow(train_data), by=5), \"lr\"=0, \"bc\"=0)\n",
    "train_index = sample(1:nrow(train_data), nrow(train_data), replace = FALSE)\n",
    "idx = 1\n",
    "for (i in seq(5, nrow(train_data), by=5)) {\n",
    "    batch_idx = train_index[1:i]\n",
    "    batch_data = train_data[batch_idx,]\n",
    "    batch_label = train_label[batch_idx,]\n",
    "    lr = logistic_regression(batch_data, batch_label, test_data, test_label[,])\n",
    "    bc = bayesian_classifier(batch_data, batch_label, test_data, test_label[,])\n",
    "    train_errors[idx, \"lr\"] = lr$train\n",
    "    test_errors[idx, \"lr\"] = lr$test\n",
    "    train_errors[idx, \"bc\"] = bc$train\n",
    "    test_errors[idx, \"bc\"] = bc$test\n",
    "    idx = idx + 1\n",
    "    \n",
    "}"
   ]
  },
  {
   "cell_type": "code",
   "execution_count": 8,
   "metadata": {},
   "outputs": [
    {
     "data": {
      "image/png": "[encoded data removed]",
      "text/plain": [
       "plot without title"
      ]
     },
     "metadata": {
      "image/png": {
       "height": 420,
       "width": 420
      }
     },
     "output_type": "display_data"
    }
   ],
   "source": [
    "train_errors_m = melt(train_errors, id='batch')\n",
    "plot = ggplot(data=train_errors_m, aes(x=batch, y=value, color=variable)) + \n",
    "       geom_line() + \n",
    "       theme_minimal() + \n",
    "       ggtitle(\"Traning errors (LR bs BC)\")\n",
    "plot"
   ]
  },
  {
   "cell_type": "code",
   "execution_count": 9,
   "metadata": {},
   "outputs": [
    {
     "data": {
      "image/png": "[encoded data removed]",
      "text/plain": [
       "plot without title"
      ]
     },
     "metadata": {
      "image/png": {
       "height": 420,
       "width": 420
      }
     },
     "output_type": "display_data"
    }
   ],
   "source": [
    "test_errors_m = melt(test_errors, id='batch')\n",
    "plot = ggplot(data=test_errors_m, aes(x=batch, y=value, color=variable)) + \n",
    "       geom_line() + \n",
    "       theme_minimal() + \n",
    "       ggtitle(\"Test errors (LR vs BC)\")\n",
    "plot"
   ]
  },
  {
   "cell_type": "markdown",
   "metadata": {},
   "source": [
    "### 7.3\n",
    "##### Explain your observations in your Jupyter Notebook file.:\n",
    "###### a. What does happen for each classifier when the number of training data points is increased?\n",
    "\n",
    "###### b. Which classifier is best suited when the training set is small, and which is best suited when the training set is big?\n",
    "\n",
    "###### c. Justify your observations in previous questions (III.a & III.b) by providing some speculations and possible reasons."
   ]
  },
  {
   "cell_type": "code",
   "execution_count": null,
   "metadata": {},
   "outputs": [],
   "source": []
  },
  {
   "cell_type": "code",
   "execution_count": null,
   "metadata": {},
   "outputs": [],
   "source": []
  },
  {
   "cell_type": "markdown",
   "metadata": {},
   "source": [
    "#### Answer:\n",
    "\n",
    "##### a. As the number of training data points  increases, the model more tries to fit well. But for the baysian classifier, it generalises well on smaller data points.\n",
    "##### b. Therefore, the Baysian classifier is more suited to train on smaller dataset whereas linear regression is more suited for larger dataset.\n",
    "##### c. Baysianclassifier is a generative model, which can generalise well given smaller dataset. That is why even with smaller data it shows better performance. That performance remains constant even if the data size increases. For the linear regression, with more examples it can well define the decision boundary and is able to separate the data well. "
   ]
  },
  {
   "cell_type": "code",
   "execution_count": null,
   "metadata": {},
   "outputs": [],
   "source": []
  }
 ],
 "metadata": {
  "kernelspec": {
   "display_name": "R",
   "language": "R",
   "name": "ir"
  },
  "language_info": {
   "codemirror_mode": "r",
   "file_extension": ".r",
   "mimetype": "text/x-r-source",
   "name": "R",
   "pygments_lexer": "r",
   "version": "4.0.1"
  }
 },
 "nbformat": 4,
 "nbformat_minor": 4
}
