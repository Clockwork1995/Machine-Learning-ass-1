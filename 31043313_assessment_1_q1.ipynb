{
 "cells": [
  {
   "cell_type": "markdown",
   "metadata": {},
   "source": [
    "# Question 1 - KNN Regressor (20 Marks)"
   ]
  },
  {
   "cell_type": "markdown",
   "metadata": {},
   "source": [
    "### 1.1\n",
    "##### Implement the KNN regressor function:knn(train.data, train.label, test.data, K=3)which takes the training data and their labels (continuous values), the testset, and the size of the neighborhood (K). It should return the regressedvalues for the test data points. Note that, you need to use a distance function to choose the neighbors. The distance function used to measure the distance between a pair of data points is Manhattan distance function."
   ]
  },
  {
   "cell_type": "code",
   "execution_count": 1,
   "metadata": {},
   "outputs": [
    {
     "name": "stderr",
     "output_type": "stream",
     "text": [
      "Warning message:\n",
      "\"package 'ggplot2' was built under R version 4.0.2\"\n",
      "Warning message:\n",
      "\"package 'repr' was built under R version 4.0.2\"\n"
     ]
    }
   ],
   "source": [
    "library(reshape2)\n",
    "library(ggplot2)\n",
    "library(repr)"
   ]
  },
  {
   "cell_type": "markdown",
   "metadata": {},
   "source": [
    "## KNN regressor function"
   ]
  },
  {
   "cell_type": "code",
   "execution_count": 2,
   "metadata": {},
   "outputs": [],
   "source": [
    "knn_regressor = function(train_data, train_label, test_data, K=3){\n",
    "    # Calculating the length of the training and testing data sets \n",
    "    train_len = nrow(train_data)\n",
    "    test_len = nrow(test_data)\n",
    "    \n",
    "    # Calculating the euclidean distance between each data points\n",
    "    distance = as.matrix(dist(rbind(test_data, train_data), method=\"euclidean\"))\n",
    "    # Filter and keep the distances between train and test data points \n",
    "    distance = distance[1: test_len, (test_len + 1): (train_len + test_len)]\n",
    "    \n",
    "    # Create dataframe to record prediction results\n",
    "    test_predictions = data.frame(\"index\" = 1:test_len, \"prediction\" = 0)\n",
    "    \n",
    "    # For each test datapoint\n",
    "    for (i in 1:test_len){\n",
    "        # Calculate nearest train data points\n",
    "        K_nearest_neighbours = sort(distance[i,], index.return = TRUE)$ix[1:K]\n",
    "        # Calculate average value of nearest neighbouring data points as prediction\n",
    "        prediction = mean(train_label[K_nearest_neighbours,])\n",
    "        # Record predicted value\n",
    "        test_predictions[i, \"prediction\"] = prediction \n",
    "    }\n",
    "   \n",
    "    return (test_predictions)\n",
    "}"
   ]
  },
  {
   "cell_type": "markdown",
   "metadata": {},
   "source": [
    "### 1.2\n",
    "##### Plot the training and the testing errors versus 1/K for K=1,.., 35in one plot, using the Task1A_train.csv and Task1A_test.csv datasetsprovided for this assignment. Save the plot in your Jupyter Notebook filefor Question 1. Report your chosen error function in your JupyterNotebook file."
   ]
  },
  {
   "cell_type": "code",
   "execution_count": 3,
   "metadata": {},
   "outputs": [],
   "source": [
    "# Loading the train data\n",
    "train = read.csv(\"Data_set/Task1A_train.csv\", header = TRUE)\n",
    "names(train)  = c(\"data\", \"label\")\n",
    "\n",
    "# Loading the test data\n",
    "test = read.csv(\"Data_set/Task1A_test.csv\")\n",
    "names(test)  = c(\"data\", \"label\")\n",
    "\n",
    "# Error functions\n",
    "\n",
    "#Root mean squared error function\n",
    "RMSE <-  function(predictions, labels){\n",
    "    error = mean((predictions - labels)^2)\n",
    "    return (error)\n",
    "}\n",
    "\n",
    "# mean absolute error function\n",
    "MAE = function(predictions, labels){\n",
    "    error = mean(abs(predictions - labels))\n",
    "}\n",
    "\n",
    "max_k = 35\n",
    "error <- data.frame('K'=1:max_k, 'train'= 0, 'test'= 0)\n",
    "\n",
    "for (k in 1:35){\n",
    "    train_predictions = knn_regressor(train[1], train[2], train[1], K=k)\n",
    "    error[k,'train'] = RMSE(train_predictions$prediction, train$label)\n",
    "    \n",
    "    test_predictions = knn_regressor(train[1], train[2], test[1], K=k)\n",
    "    error[k,'test'] = RMSE(test_predictions$prediction, test$label)\n",
    "}"
   ]
  },
  {
   "cell_type": "code",
   "execution_count": 4,
   "metadata": {},
   "outputs": [
    {
     "data": {
      "image/png": "[encoded data removed]",
      "text/plain": [
       "plot without title"
      ]
     },
     "metadata": {
      "image/png": {
       "height": 720,
       "width": 720
      }
     },
     "output_type": "display_data"
    }
   ],
   "source": [
    "# resizing plot\n",
    "options(repr.plot.width=12, repr.plot.height=12)\n",
    "\n",
    "# Plotting the training and the testing errors versus 1/K for K=1,.., 35\n",
    "error_plot = melt(error, id='K')\n",
    "names(error_plot) <- c('K', 'type', 'value')\n",
    "\n",
    "plot_1 = ggplot(data=error_plot, aes(x=1/K, y=value, color=type)) + \n",
    "       geom_line() + \n",
    "       theme_bw() + \n",
    "       ggtitle(\"Errors\")\n",
    "\n",
    "print(plot_1)"
   ]
  },
  {
   "cell_type": "code",
   "execution_count": 5,
   "metadata": {},
   "outputs": [
    {
     "data": {
      "text/html": [
       "<table>\n",
       "<caption>A data.frame: 35 × 3</caption>\n",
       "<thead>\n",
       "\t<tr><th></th><th scope=col>K</th><th scope=col>type</th><th scope=col>value</th></tr>\n",
       "\t<tr><th></th><th scope=col>&lt;int&gt;</th><th scope=col>&lt;fct&gt;</th><th scope=col>&lt;dbl&gt;</th></tr>\n",
       "</thead>\n",
       "<tbody>\n",
       "\t<tr><th scope=row>46</th><td>11</td><td>test</td><td>0.9089441</td></tr>\n",
       "\t<tr><th scope=row>44</th><td> 9</td><td>test</td><td>0.9502444</td></tr>\n",
       "\t<tr><th scope=row>45</th><td>10</td><td>test</td><td>1.0008381</td></tr>\n",
       "\t<tr><th scope=row>48</th><td>13</td><td>test</td><td>1.0458129</td></tr>\n",
       "\t<tr><th scope=row>42</th><td> 7</td><td>test</td><td>1.0808480</td></tr>\n",
       "\t<tr><th scope=row>47</th><td>12</td><td>test</td><td>1.1214779</td></tr>\n",
       "\t<tr><th scope=row>43</th><td> 8</td><td>test</td><td>1.1886079</td></tr>\n",
       "\t<tr><th scope=row>49</th><td>14</td><td>test</td><td>1.1977923</td></tr>\n",
       "\t<tr><th scope=row>50</th><td>15</td><td>test</td><td>1.2477478</td></tr>\n",
       "\t<tr><th scope=row>40</th><td> 5</td><td>test</td><td>1.3772529</td></tr>\n",
       "\t<tr><th scope=row>41</th><td> 6</td><td>test</td><td>1.4599019</td></tr>\n",
       "\t<tr><th scope=row>51</th><td>16</td><td>test</td><td>1.5275396</td></tr>\n",
       "\t<tr><th scope=row>52</th><td>17</td><td>test</td><td>1.5660431</td></tr>\n",
       "\t<tr><th scope=row>36</th><td> 1</td><td>test</td><td>1.6993905</td></tr>\n",
       "\t<tr><th scope=row>38</th><td> 3</td><td>test</td><td>1.7044442</td></tr>\n",
       "\t<tr><th scope=row>53</th><td>18</td><td>test</td><td>1.7982951</td></tr>\n",
       "\t<tr><th scope=row>39</th><td> 4</td><td>test</td><td>1.8682185</td></tr>\n",
       "\t<tr><th scope=row>54</th><td>19</td><td>test</td><td>1.9163597</td></tr>\n",
       "\t<tr><th scope=row>37</th><td> 2</td><td>test</td><td>2.1043274</td></tr>\n",
       "\t<tr><th scope=row>55</th><td>20</td><td>test</td><td>2.2594147</td></tr>\n",
       "\t<tr><th scope=row>56</th><td>21</td><td>test</td><td>2.4357373</td></tr>\n",
       "\t<tr><th scope=row>57</th><td>22</td><td>test</td><td>2.7713309</td></tr>\n",
       "\t<tr><th scope=row>58</th><td>23</td><td>test</td><td>2.9815706</td></tr>\n",
       "\t<tr><th scope=row>59</th><td>24</td><td>test</td><td>3.4315355</td></tr>\n",
       "\t<tr><th scope=row>60</th><td>25</td><td>test</td><td>3.6948926</td></tr>\n",
       "\t<tr><th scope=row>61</th><td>26</td><td>test</td><td>4.1889897</td></tr>\n",
       "\t<tr><th scope=row>62</th><td>27</td><td>test</td><td>4.5126413</td></tr>\n",
       "\t<tr><th scope=row>63</th><td>28</td><td>test</td><td>5.0695241</td></tr>\n",
       "\t<tr><th scope=row>64</th><td>29</td><td>test</td><td>5.4157433</td></tr>\n",
       "\t<tr><th scope=row>65</th><td>30</td><td>test</td><td>5.9843085</td></tr>\n",
       "\t<tr><th scope=row>66</th><td>31</td><td>test</td><td>6.4142543</td></tr>\n",
       "\t<tr><th scope=row>67</th><td>32</td><td>test</td><td>7.0440130</td></tr>\n",
       "\t<tr><th scope=row>68</th><td>33</td><td>test</td><td>7.5453339</td></tr>\n",
       "\t<tr><th scope=row>69</th><td>34</td><td>test</td><td>8.1941533</td></tr>\n",
       "\t<tr><th scope=row>70</th><td>35</td><td>test</td><td>8.7787059</td></tr>\n",
       "</tbody>\n",
       "</table>\n"
      ],
      "text/latex": [
       "A data.frame: 35 × 3\n",
       "\\begin{tabular}{r|lll}\n",
       "  & K & type & value\\\\\n",
       "  & <int> & <fct> & <dbl>\\\\\n",
       "\\hline\n",
       "\t46 & 11 & test & 0.9089441\\\\\n",
       "\t44 &  9 & test & 0.9502444\\\\\n",
       "\t45 & 10 & test & 1.0008381\\\\\n",
       "\t48 & 13 & test & 1.0458129\\\\\n",
       "\t42 &  7 & test & 1.0808480\\\\\n",
       "\t47 & 12 & test & 1.1214779\\\\\n",
       "\t43 &  8 & test & 1.1886079\\\\\n",
       "\t49 & 14 & test & 1.1977923\\\\\n",
       "\t50 & 15 & test & 1.2477478\\\\\n",
       "\t40 &  5 & test & 1.3772529\\\\\n",
       "\t41 &  6 & test & 1.4599019\\\\\n",
       "\t51 & 16 & test & 1.5275396\\\\\n",
       "\t52 & 17 & test & 1.5660431\\\\\n",
       "\t36 &  1 & test & 1.6993905\\\\\n",
       "\t38 &  3 & test & 1.7044442\\\\\n",
       "\t53 & 18 & test & 1.7982951\\\\\n",
       "\t39 &  4 & test & 1.8682185\\\\\n",
       "\t54 & 19 & test & 1.9163597\\\\\n",
       "\t37 &  2 & test & 2.1043274\\\\\n",
       "\t55 & 20 & test & 2.2594147\\\\\n",
       "\t56 & 21 & test & 2.4357373\\\\\n",
       "\t57 & 22 & test & 2.7713309\\\\\n",
       "\t58 & 23 & test & 2.9815706\\\\\n",
       "\t59 & 24 & test & 3.4315355\\\\\n",
       "\t60 & 25 & test & 3.6948926\\\\\n",
       "\t61 & 26 & test & 4.1889897\\\\\n",
       "\t62 & 27 & test & 4.5126413\\\\\n",
       "\t63 & 28 & test & 5.0695241\\\\\n",
       "\t64 & 29 & test & 5.4157433\\\\\n",
       "\t65 & 30 & test & 5.9843085\\\\\n",
       "\t66 & 31 & test & 6.4142543\\\\\n",
       "\t67 & 32 & test & 7.0440130\\\\\n",
       "\t68 & 33 & test & 7.5453339\\\\\n",
       "\t69 & 34 & test & 8.1941533\\\\\n",
       "\t70 & 35 & test & 8.7787059\\\\\n",
       "\\end{tabular}\n"
      ],
      "text/markdown": [
       "\n",
       "A data.frame: 35 × 3\n",
       "\n",
       "| <!--/--> | K &lt;int&gt; | type &lt;fct&gt; | value &lt;dbl&gt; |\n",
       "|---|---|---|---|\n",
       "| 46 | 11 | test | 0.9089441 |\n",
       "| 44 |  9 | test | 0.9502444 |\n",
       "| 45 | 10 | test | 1.0008381 |\n",
       "| 48 | 13 | test | 1.0458129 |\n",
       "| 42 |  7 | test | 1.0808480 |\n",
       "| 47 | 12 | test | 1.1214779 |\n",
       "| 43 |  8 | test | 1.1886079 |\n",
       "| 49 | 14 | test | 1.1977923 |\n",
       "| 50 | 15 | test | 1.2477478 |\n",
       "| 40 |  5 | test | 1.3772529 |\n",
       "| 41 |  6 | test | 1.4599019 |\n",
       "| 51 | 16 | test | 1.5275396 |\n",
       "| 52 | 17 | test | 1.5660431 |\n",
       "| 36 |  1 | test | 1.6993905 |\n",
       "| 38 |  3 | test | 1.7044442 |\n",
       "| 53 | 18 | test | 1.7982951 |\n",
       "| 39 |  4 | test | 1.8682185 |\n",
       "| 54 | 19 | test | 1.9163597 |\n",
       "| 37 |  2 | test | 2.1043274 |\n",
       "| 55 | 20 | test | 2.2594147 |\n",
       "| 56 | 21 | test | 2.4357373 |\n",
       "| 57 | 22 | test | 2.7713309 |\n",
       "| 58 | 23 | test | 2.9815706 |\n",
       "| 59 | 24 | test | 3.4315355 |\n",
       "| 60 | 25 | test | 3.6948926 |\n",
       "| 61 | 26 | test | 4.1889897 |\n",
       "| 62 | 27 | test | 4.5126413 |\n",
       "| 63 | 28 | test | 5.0695241 |\n",
       "| 64 | 29 | test | 5.4157433 |\n",
       "| 65 | 30 | test | 5.9843085 |\n",
       "| 66 | 31 | test | 6.4142543 |\n",
       "| 67 | 32 | test | 7.0440130 |\n",
       "| 68 | 33 | test | 7.5453339 |\n",
       "| 69 | 34 | test | 8.1941533 |\n",
       "| 70 | 35 | test | 8.7787059 |\n",
       "\n"
      ],
      "text/plain": [
       "   K  type value    \n",
       "46 11 test 0.9089441\n",
       "44  9 test 0.9502444\n",
       "45 10 test 1.0008381\n",
       "48 13 test 1.0458129\n",
       "42  7 test 1.0808480\n",
       "47 12 test 1.1214779\n",
       "43  8 test 1.1886079\n",
       "49 14 test 1.1977923\n",
       "50 15 test 1.2477478\n",
       "40  5 test 1.3772529\n",
       "41  6 test 1.4599019\n",
       "51 16 test 1.5275396\n",
       "52 17 test 1.5660431\n",
       "36  1 test 1.6993905\n",
       "38  3 test 1.7044442\n",
       "53 18 test 1.7982951\n",
       "39  4 test 1.8682185\n",
       "54 19 test 1.9163597\n",
       "37  2 test 2.1043274\n",
       "55 20 test 2.2594147\n",
       "56 21 test 2.4357373\n",
       "57 22 test 2.7713309\n",
       "58 23 test 2.9815706\n",
       "59 24 test 3.4315355\n",
       "60 25 test 3.6948926\n",
       "61 26 test 4.1889897\n",
       "62 27 test 4.5126413\n",
       "63 28 test 5.0695241\n",
       "64 29 test 5.4157433\n",
       "65 30 test 5.9843085\n",
       "66 31 test 6.4142543\n",
       "67 32 test 7.0440130\n",
       "68 33 test 7.5453339\n",
       "69 34 test 8.1941533\n",
       "70 35 test 8.7787059"
      ]
     },
     "metadata": {},
     "output_type": "display_data"
    }
   ],
   "source": [
    "#### Finding the lowest value of test error and the k value\n",
    "zz = error_plot[error_plot$type == 'test',]\n",
    "zz = zz[order(zz$value),]\n",
    "zz"
   ]
  },
  {
   "cell_type": "markdown",
   "metadata": {},
   "source": [
    "### 1.3\n",
    "##### Report (in your Jupyter Notebook file) the optimum value for K in terms of the testing error. Discuss the values of K and model complexity corresponding to underfitting and overfitting based on your plot in the previous part (Part II)."
   ]
  },
  {
   "cell_type": "markdown",
   "metadata": {},
   "source": [
    "Answer:\n",
    "We can see from the plot and the dataframe above that, the lowest value of the test error (where the test error is lowest) occurs when K = 11. For the KNN regressor model, the model complexity increases when the value of k is lower. Highest complexity for the model occurs at K = 1. Thus, the optimum value of K in terms of the testing error is 11. "
   ]
  },
  {
   "cell_type": "code",
   "execution_count": null,
   "metadata": {},
   "outputs": [],
   "source": []
  }
 ],
 "metadata": {
  "kernelspec": {
   "display_name": "R",
   "language": "R",
   "name": "ir"
  },
  "language_info": {
   "codemirror_mode": "r",
   "file_extension": ".r",
   "mimetype": "text/x-r-source",
   "name": "R",
   "pygments_lexer": "r",
   "version": "4.0.1"
  }
 },
 "nbformat": 4,
 "nbformat_minor": 4
}
